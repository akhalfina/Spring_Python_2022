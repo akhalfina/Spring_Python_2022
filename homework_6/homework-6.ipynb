{
 "cells": [
  {
   "cell_type": "markdown",
   "metadata": {},
   "source": [
    "# Домашнее задание №6\n",
    "## Библиотека numpy\n",
    "---\n",
    "**Выполнила:** Халфина Айсылу Зуфаровна\n",
    "\n",
    "**Группа:** НПМбд-02-19\n",
    "\n",
    "---"
   ]
  },
  {
   "cell_type": "code",
   "execution_count": 2,
   "metadata": {},
   "outputs": [],
   "source": [
    "import numpy as np"
   ]
  },
  {
   "cell_type": "markdown",
   "metadata": {},
   "source": [
    "1.\tСоздайте равномерное разбиение интервала от -1.3 до 2.5 на 64 отрезка."
   ]
  },
  {
   "cell_type": "code",
   "execution_count": 3,
   "metadata": {},
   "outputs": [
    {
     "data": {
      "text/plain": [
       "array([-1.3       , -1.23968254, -1.17936508, -1.11904762, -1.05873016,\n",
       "       -0.9984127 , -0.93809524, -0.87777778, -0.81746032, -0.75714286,\n",
       "       -0.6968254 , -0.63650794, -0.57619048, -0.51587302, -0.45555556,\n",
       "       -0.3952381 , -0.33492063, -0.27460317, -0.21428571, -0.15396825,\n",
       "       -0.09365079, -0.03333333,  0.02698413,  0.08730159,  0.14761905,\n",
       "        0.20793651,  0.26825397,  0.32857143,  0.38888889,  0.44920635,\n",
       "        0.50952381,  0.56984127,  0.63015873,  0.69047619,  0.75079365,\n",
       "        0.81111111,  0.87142857,  0.93174603,  0.99206349,  1.05238095,\n",
       "        1.11269841,  1.17301587,  1.23333333,  1.29365079,  1.35396825,\n",
       "        1.41428571,  1.47460317,  1.53492063,  1.5952381 ,  1.65555556,\n",
       "        1.71587302,  1.77619048,  1.83650794,  1.8968254 ,  1.95714286,\n",
       "        2.01746032,  2.07777778,  2.13809524,  2.1984127 ,  2.25873016,\n",
       "        2.31904762,  2.37936508,  2.43968254,  2.5       ])"
      ]
     },
     "execution_count": 3,
     "metadata": {},
     "output_type": "execute_result"
    }
   ],
   "source": [
    "np.linspace(-1.3, 2.5, 64)"
   ]
  },
  {
   "cell_type": "markdown",
   "metadata": {},
   "source": [
    "2.\tСгенерируйте numpy массив длины $3n$, заполненный циклически числами 1, 2, 3, 1, 2, 3, 1...."
   ]
  },
  {
   "cell_type": "code",
   "execution_count": 4,
   "metadata": {},
   "outputs": [
    {
     "data": {
      "text/plain": [
       "array([1, 2, 3, 1, 2, 3, 1, 2, 3, 1, 2, 3, 1, 2, 3])"
      ]
     },
     "execution_count": 4,
     "metadata": {},
     "output_type": "execute_result"
    }
   ],
   "source": [
    "n = 5\n",
    "np.tile([1, 2, 3], n)"
   ]
  },
  {
   "cell_type": "markdown",
   "metadata": {},
   "source": [
    "3.\tСоздайте массив первых 10 нечетных целых чисел."
   ]
  },
  {
   "cell_type": "code",
   "execution_count": 5,
   "metadata": {},
   "outputs": [
    {
     "data": {
      "text/plain": [
       "array([ 1,  3,  5,  7,  9, 11, 13, 15, 17, 19])"
      ]
     },
     "execution_count": 5,
     "metadata": {},
     "output_type": "execute_result"
    }
   ],
   "source": [
    "np.arange(1, 20, 2)"
   ]
  },
  {
   "cell_type": "markdown",
   "metadata": {},
   "source": [
    "4.  Создайте массив нулей размера 10 x 10, а затем создайте в нём \"рамку\" из единиц по краям."
   ]
  },
  {
   "cell_type": "code",
   "execution_count": 6,
   "metadata": {},
   "outputs": [
    {
     "data": {
      "text/plain": [
       "array([[1., 1., 1., 1., 1., 1., 1., 1., 1., 1., 1., 1.],\n",
       "       [1., 0., 0., 0., 0., 0., 0., 0., 0., 0., 0., 1.],\n",
       "       [1., 0., 0., 0., 0., 0., 0., 0., 0., 0., 0., 1.],\n",
       "       [1., 0., 0., 0., 0., 0., 0., 0., 0., 0., 0., 1.],\n",
       "       [1., 0., 0., 0., 0., 0., 0., 0., 0., 0., 0., 1.],\n",
       "       [1., 0., 0., 0., 0., 0., 0., 0., 0., 0., 0., 1.],\n",
       "       [1., 0., 0., 0., 0., 0., 0., 0., 0., 0., 0., 1.],\n",
       "       [1., 0., 0., 0., 0., 0., 0., 0., 0., 0., 0., 1.],\n",
       "       [1., 0., 0., 0., 0., 0., 0., 0., 0., 0., 0., 1.],\n",
       "       [1., 0., 0., 0., 0., 0., 0., 0., 0., 0., 0., 1.],\n",
       "       [1., 0., 0., 0., 0., 0., 0., 0., 0., 0., 0., 1.],\n",
       "       [1., 1., 1., 1., 1., 1., 1., 1., 1., 1., 1., 1.]])"
      ]
     },
     "execution_count": 6,
     "metadata": {},
     "output_type": "execute_result"
    }
   ],
   "source": [
    "zeros = np.zeros(100).reshape(10,10)\n",
    "frame = np.pad(zeros, pad_width=1, constant_values=1)\n",
    "frame"
   ]
  },
  {
   "cell_type": "markdown",
   "metadata": {},
   "source": [
    "5.  Создайте массив 8 x 8 с шахматной доской из нулей и единиц."
   ]
  },
  {
   "cell_type": "code",
   "execution_count": 7,
   "metadata": {},
   "outputs": [
    {
     "data": {
      "text/plain": [
       "array([[1., 0., 1., 0., 1., 0., 1., 0.],\n",
       "       [0., 1., 0., 1., 0., 1., 0., 1.],\n",
       "       [1., 0., 1., 0., 1., 0., 1., 0.],\n",
       "       [0., 1., 0., 1., 0., 1., 0., 1.],\n",
       "       [1., 0., 1., 0., 1., 0., 1., 0.],\n",
       "       [0., 1., 0., 1., 0., 1., 0., 1.],\n",
       "       [1., 0., 1., 0., 1., 0., 1., 0.],\n",
       "       [0., 1., 0., 1., 0., 1., 0., 1.]])"
      ]
     },
     "execution_count": 7,
     "metadata": {},
     "output_type": "execute_result"
    }
   ],
   "source": [
    "board = np.ones(64).reshape(8,8)\n",
    "board[1::2,::2] = 0\n",
    "board[::2,1::2] = 0\n",
    "board"
   ]
  },
  {
   "cell_type": "markdown",
   "metadata": {},
   "source": [
    "6.  Создайте функцию, которая создает $n×n$ матрицу с $(i,j)$-элементом, равным $i+j$."
   ]
  },
  {
   "cell_type": "code",
   "execution_count": 8,
   "metadata": {},
   "outputs": [
    {
     "data": {
      "text/plain": [
       "array([[ 0.,  1.,  2.,  3.,  4.,  5.],\n",
       "       [ 1.,  2.,  3.,  4.,  5.,  6.],\n",
       "       [ 2.,  3.,  4.,  5.,  6.,  7.],\n",
       "       [ 3.,  4.,  5.,  6.,  7.,  8.],\n",
       "       [ 4.,  5.,  6.,  7.,  8.,  9.],\n",
       "       [ 5.,  6.,  7.,  8.,  9., 10.]])"
      ]
     },
     "execution_count": 8,
     "metadata": {},
     "output_type": "execute_result"
    }
   ],
   "source": [
    "def create_matrix(n):\n",
    "    A = np.zeros((n, n))\n",
    "    for i in range(n):\n",
    "        A[i] = np.arange(i, i + n)\n",
    "    return A\n",
    "create_matrix(6)"
   ]
  },
  {
   "cell_type": "markdown",
   "metadata": {},
   "source": [
    "7. Примените функцию dot для перемножения вектор на вектор, матрицу на вектор и матрицу на матрицу."
   ]
  },
  {
   "cell_type": "code",
   "execution_count": 9,
   "metadata": {},
   "outputs": [
    {
     "name": "stdout",
     "output_type": "stream",
     "text": [
      "Vector_1 x Vector_2 = 70\n",
      "Vector_1 x Matrix_1 = [110 120 130 140 150]\n",
      "Matrix_1 x Matrix_2 = [[105  90  75]\n",
      " [330 290 250]\n",
      " [555 490 425]\n",
      " [780 690 600]]\n"
     ]
    }
   ],
   "source": [
    "Vector_1 = np.arange(1, 5)\n",
    "Vector_2 = np.arange(5, 9)\n",
    "Matrix_1 = np.arange(1,21).reshape(4,5)\n",
    "Matrix_2 = np.arange(15,0,-1).reshape(5,3)\n",
    "print('Vector_1 x Vector_2 =', np.dot(Vector_1, Vector_2))\n",
    "print('Vector_1 x Matrix_1 =', np.dot(Vector_1, Matrix_1))\n",
    "print('Matrix_1 x Matrix_2 =', np.dot(Matrix_1, Matrix_2))"
   ]
  },
  {
   "cell_type": "markdown",
   "metadata": {},
   "source": [
    "8. Вычислите cos(x) и sin(x) на интервале [0,1] с шагом $0.05$, а затем объедините оба массива чисел как строки в один массив."
   ]
  },
  {
   "cell_type": "code",
   "execution_count": 10,
   "metadata": {},
   "outputs": [
    {
     "data": {
      "text/plain": [
       "array([[1.        , 0.99875026, 0.99500417, 0.98877108, 0.98006658,\n",
       "        0.96891242, 0.95533649, 0.93937271, 0.92106099, 0.9004471 ,\n",
       "        0.87758256, 0.85252452, 0.82533561, 0.7960838 , 0.76484219,\n",
       "        0.73168887, 0.69670671, 0.65998315, 0.62160997, 0.58168309],\n",
       "       [0.        , 0.04997917, 0.09983342, 0.14943813, 0.19866933,\n",
       "        0.24740396, 0.29552021, 0.34289781, 0.38941834, 0.43496553,\n",
       "        0.47942554, 0.52268723, 0.56464247, 0.60518641, 0.64421769,\n",
       "        0.68163876, 0.71735609, 0.75128041, 0.78332691, 0.8134155 ]])"
      ]
     },
     "execution_count": 10,
     "metadata": {},
     "output_type": "execute_result"
    }
   ],
   "source": [
    "interval = np.arange(0,1,0.05)\n",
    "cos = np.cos(interval[::])\n",
    "sin = np.sin(interval[::])\n",
    "result = np.vstack((cos,sin))\n",
    "result"
   ]
  },
  {
   "cell_type": "markdown",
   "metadata": {},
   "source": [
    "9. Создайте матрицу $A$ размера $3×5$ из случайных чисел с равномерным распределением на отрезке $[-1,3]$ (используйте np.random.rand)"
   ]
  },
  {
   "cell_type": "code",
   "execution_count": 11,
   "metadata": {},
   "outputs": [
    {
     "data": {
      "text/plain": [
       "array([[ 0.79808635,  0.19753513,  2.12108995,  1.7393882 ,  0.76806385],\n",
       "       [-0.43858801,  2.08271392,  1.99759029,  2.97053607,  0.69564723],\n",
       "       [ 1.10693478,  0.15670841,  2.27148291,  0.46073085,  0.02945812]])"
      ]
     },
     "execution_count": 11,
     "metadata": {},
     "output_type": "execute_result"
    }
   ],
   "source": [
    "Matrix_A = 4 * np.random.rand(3,5) - 1\n",
    "Matrix_A"
   ]
  },
  {
   "cell_type": "markdown",
   "metadata": {},
   "source": [
    "10. Найдите сумму всех элементов, сумму внутри строк, сумму внутри столбцов, а также среднее значение, дисперсию и стандартное отклонение чисел для каждой строки матрицы $A$. (Подобно тому, как sorted имеет необязательный аргумент key=, многие функции Numpy имеют необязательный аргумент axis=)\n"
   ]
  },
  {
   "cell_type": "code",
   "execution_count": 12,
   "metadata": {},
   "outputs": [
    {
     "name": "stdout",
     "output_type": "stream",
     "text": [
      "Сумма всех элементов: 16.95737805503326\n",
      "Сумма внутри строк: [5.62416349 7.3078995  4.02531506]\n",
      "Сумма внутри столбцов: [1.46643313 2.43695746 6.39016316 5.17065511 1.4931692 ]\n",
      "Среднее значение строк: [1.1248327  1.4615799  0.80506301]\n",
      "Дисперсия строк: [0.49282699 1.42947085 0.67640103]\n",
      "Стандартное отклонение строк: [0.70201637 1.1956048  0.82243604]\n"
     ]
    }
   ],
   "source": [
    "print('Сумма всех элементов:', np.sum(Matrix_A))\n",
    "print('Сумма внутри строк:', np.sum(Matrix_A, axis = 1))\n",
    "print('Сумма внутри столбцов:', np.sum(Matrix_A, axis = 0))\n",
    "print('Среднее значение строк:', np.mean(Matrix_A, axis = 1))\n",
    "print('Дисперсия строк:', np.var(Matrix_A, axis = 1))\n",
    "print('Стандартное отклонение строк:', np.sqrt(np.var(Matrix_A, axis = 1)))"
   ]
  },
  {
   "cell_type": "markdown",
   "metadata": {},
   "source": [
    "11.  Отнимите от каждого элемента матрицы $A$ среднее по строке и поделите на стандартное отклонение строки."
   ]
  },
  {
   "cell_type": "code",
   "execution_count": 13,
   "metadata": {},
   "outputs": [
    {
     "data": {
      "text/plain": [
       "array([[-0.46543977, -1.32090589,  1.41913678,  0.87541477, -0.50820588],\n",
       "       [-1.5892943 ,  0.51951449,  0.44831736,  1.26208607, -0.64062361],\n",
       "       [ 0.36704589, -0.78833438,  1.78302   , -0.41867349, -0.94305801]])"
      ]
     },
     "execution_count": 13,
     "metadata": {},
     "output_type": "execute_result"
    }
   ],
   "source": [
    "(Matrix_A - np.array([np.mean(Matrix_A, axis = 1),]).T) / np.array([np.sqrt(np.var(Matrix_A, axis = 1)),]).T"
   ]
  },
  {
   "cell_type": "markdown",
   "metadata": {},
   "source": [
    "12. Отсортируйте матрицу $A$ по 3-ому столбцу, т.е. поменяйте местами строки матрицы так, чтобы 3-й столбец оказался отсортированным. Используйте для этого slicing + argsort + indexing."
   ]
  },
  {
   "cell_type": "code",
   "execution_count": 14,
   "metadata": {},
   "outputs": [
    {
     "data": {
      "text/plain": [
       "array([[-0.43858801,  2.08271392,  1.99759029,  2.97053607,  0.69564723],\n",
       "       [ 0.79808635,  0.19753513,  2.12108995,  1.7393882 ,  0.76806385],\n",
       "       [ 1.10693478,  0.15670841,  2.27148291,  0.46073085,  0.02945812]])"
      ]
     },
     "execution_count": 14,
     "metadata": {},
     "output_type": "execute_result"
    }
   ],
   "source": [
    "Matrix_A[np.argsort(Matrix_A[:, 2])]"
   ]
  },
  {
   "cell_type": "markdown",
   "metadata": {},
   "source": [
    "13. Посчитайте две матрицы: $B = A^TA$ и $C = AA^T$. Что вы можете о них сказать? Какого они размера? В чём их сходство и отличие?"
   ]
  },
  {
   "cell_type": "code",
   "execution_count": 15,
   "metadata": {},
   "outputs": [
    {
     "name": "stdout",
     "output_type": "stream",
     "text": [
      "B:  [[42 29 53 33]\n",
      " [29 29 34 31]\n",
      " [53 34 98 58]\n",
      " [33 31 58 45]]\n",
      "C:  [[ 51  30  67]\n",
      " [ 30  37  45]\n",
      " [ 67  45 126]]\n"
     ]
    }
   ],
   "source": [
    "a = np.random.randint(1, 10, size = (3,4))\n",
    "Matrix_B = np.dot(a.T,a)\n",
    "Matrix_C = np.dot(a,a.T)\n",
    "print('B: ', Matrix_B)\n",
    "print('C: ', Matrix_C)\n",
    "\n",
    "# Обе матрицы кввадратные\n",
    "# Размер матрицы B зависит от количества столбцов матрицы А, а размер матрицы C зависит от количества её строк"
   ]
  },
  {
   "cell_type": "markdown",
   "metadata": {},
   "source": [
    "14. Найдите сумму диагональных элементов матриц $B$ и $C$."
   ]
  },
  {
   "cell_type": "code",
   "execution_count": 16,
   "metadata": {},
   "outputs": [
    {
     "name": "stdout",
     "output_type": "stream",
     "text": [
      "B: 214\n",
      "C: 214\n"
     ]
    }
   ],
   "source": [
    "print('B:', sum(np.diag(Matrix_B)))\n",
    "print('C:', sum(np.diag(Matrix_C)))"
   ]
  },
  {
   "cell_type": "markdown",
   "metadata": {},
   "source": [
    "15.\tПосчитайте детерминант и ранг матриц $A$, $B$ и $C$, посмотрите на спектр (набор собственных значений) матриц $B$ и $C$, какие выводы вы можете сделать?  \n",
    "(подсказка: используйте готовые функции из библиотеки np.linalg). \n"
   ]
  },
  {
   "cell_type": "code",
   "execution_count": 17,
   "metadata": {},
   "outputs": [
    {
     "name": "stdout",
     "output_type": "stream",
     "text": [
      "Матрица А\n",
      "Детерминант:  не определён\n",
      "Ранг:  3\n",
      "\n",
      "Матрица B\n",
      "Детерминант:  0.0\n",
      "Ранг:  3\n",
      "Спектр:  (array([1.84987402e+02, 1.07688500e-14, 1.04568697e+01, 1.85557286e+01]), array([[ 0.43291409,  0.42225914, -0.7403322 ,  0.29358278],\n",
      "       [ 0.32550474, -0.61755399,  0.11815611,  0.70619605],\n",
      "       [ 0.70066418, -0.34836379, -0.03549623, -0.62165296],\n",
      "       [ 0.46443704,  0.5647716 ,  0.66082327,  0.16924506]]))\n",
      "\n",
      "Матрица C\n",
      "Детерминант:  35893.99999999996\n",
      "Ранг:  3\n",
      "Спектр:  (array([184.98740177,  10.45686966,  18.55572857]), array([[ 0.48042546,  0.85853988, -0.17916657],\n",
      "       [ 0.34285796, -0.3718808 , -0.86264309],\n",
      "       [ 0.8072421 , -0.35300702,  0.47301823]]))\n"
     ]
    }
   ],
   "source": [
    "def get_det(matrix):\n",
    "    if matrix.shape[0] != matrix.shape[1]:\n",
    "        return 'не определён'\n",
    "    return np.linalg.det(matrix)\n",
    "\n",
    "Det_A = get_det(Matrix_A)\n",
    "Det_B = get_det(Matrix_B)\n",
    "Det_C = get_det(Matrix_C)\n",
    "Rank_A = np.linalg.matrix_rank(Matrix_A)\n",
    "Rank_B = np.linalg.matrix_rank(Matrix_B)\n",
    "Rank_C = np.linalg.matrix_rank(Matrix_C)\n",
    "Eig_B = np.linalg.eig(Matrix_B)\n",
    "Eig_C = np.linalg.eig(Matrix_C)\n",
    "print('Матрица А')\n",
    "print('Детерминант: ', Det_A)\n",
    "print('Ранг: ', Rank_A)\n",
    "print('')\n",
    "print('Матрица B')\n",
    "print('Детерминант: ', Det_B)\n",
    "print('Ранг: ', Rank_B)\n",
    "print('Спектр: ', Eig_B)\n",
    "print('')\n",
    "print('Матрица C')\n",
    "print('Детерминант: ', Det_C)\n",
    "print('Ранг: ', Rank_C)\n",
    "print('Спектр: ', Eig_C)"
   ]
  },
  {
   "cell_type": "markdown",
   "metadata": {},
   "source": [
    "16. Численно посчитать определённый интеграл  3-мя методами:  \n",
    "a)\tПрямоугольников $\\int\\limits_a^b {f(x)dx \\approx \\Delta x\\sum\\limits_{k = 0}^N {f({x_k})} }$  \n",
    "b)\tТрапеций $\\int\\limits_a^b {f(x)dx \\approx \\frac{{\\Delta x}}{2}\\left( {f({x_0}) + 2\\sum\\limits_{k = 1}^{N - 1} {f({x_k})}  + f({x_N})} \\right)}$  \n",
    "c)\tПо правилу Симпсона  $\\int\\limits_a^b {f(x)dx \\approx \\frac{{\\Delta x}}{3}\\left( {f({x_0}) + 2\\sum\\limits_{k = 1}^{N/2 - 1} {f({x_{2k}})}  + 4\\sum\\limits_{k = 1}^{N/2} {f({x_{2k - 1}})}  + f({x_N})} \\right)}$  \n",
    "\n",
    "\n",
    "В реализации этих методов цикл for для суммирования использовать нельзя.  \n",
    "Нужно посчитать значение интеграла с некоторым шагом интегрирования (например начать с 0.1), потом уменьшить его в десять раз и ещё раз посчитать и так до тех пор пока отличие в ответах будет в 5-м знаке после запятой, т.е. чтобы ошибка была меньше 1e-5. Получить ответы для 3-х разных методов и сделать соответствующие выводы.  \n",
    "\n",
    "Далее необходимо сравнить полученные оценки с аналитическим решением (т.е. формульным, которое вы должны сами посчитать на листочке и вбить формулу-ответ).   \n",
    "\n",
    "В качестве интеграла взять один из следующих с номером, сгенерированным случайным образом с помощью функции np.random.randint(10), в качестве seed для генератора случайных чисел взять номер своего студенческого билета.\n",
    "\n",
    "<table width=\"80%\"\n",
    "       align=\"center\">\n",
    "    <tr>\n",
    "        <td> 0) $\\int\\limits_3^4 {\\frac{{{x^2} + 3}}{{x - 2}}dx}$ </td>\n",
    "        <td> 1) $\\int\\limits_{ - 2}^{ - 1} {\\frac{{x + 1}}{{{x^3} - {x^2}}}dx}$ </td>\n",
    "        <td> 2) $\\int\\limits_1^2 {\\frac{{{e^{1/{x^2}}}}}{{{x^3}}}dx}$ </td>\n",
    "        <td> 3) $\\int\\limits_1^e {\\frac{{\\cos (\\ln x)}}{x}dx}$ </td>\n",
    "        <td> 4) $\\int\\limits_1^e {\\frac{{dx}}{{x(1 + {{\\ln }^2}x)}}}$ </td>\n",
    "    </tr>                \n",
    "    <tr>\n",
    "        <td> 5) $\\int\\limits_0^{\\pi /2} {{{\\cos }^3}\\alpha \\;d\\alpha }$ </td>\n",
    "        <td> 6) $\\int\\limits_0^{1/3} {c{h^2}3x\\;dx}$ </td>\n",
    "        <td> 7) $\\int\\limits_2^3 {\\frac{{dy}}{{{y^2} - 2y - 8}}dy}$ </td>\n",
    "        <td> 8) $\\int\\limits_{3/4}^2 {\\frac{{dx}}{{\\sqrt {2 + 3x - 2{x^2}} }}}$ </td>\n",
    "        <td> 9) $\\int\\limits_0^2 {\\frac{{2x - 1}}{{2x + 1}}dx}$ </td>\n",
    "        </tr>\n",
    "</table>"
   ]
  },
  {
   "cell_type": "code",
   "execution_count": 18,
   "metadata": {},
   "outputs": [
    {
     "data": {
      "text/plain": [
       "7"
      ]
     },
     "execution_count": 18,
     "metadata": {},
     "output_type": "execute_result"
    }
   ],
   "source": [
    "np.random.seed(1032196007)\n",
    "v = np.random.randint(10)\n",
    "v"
   ]
  },
  {
   "cell_type": "code",
   "execution_count": 29,
   "metadata": {},
   "outputs": [
    {
     "name": "stdout",
     "output_type": "stream",
     "text": [
      "Метод прямоугольников: -0.152713219828879\n",
      "Метод трапеций: -0.1527151327081912\n",
      "Метод Симпсона: -0.15271512198228884\n"
     ]
    }
   ],
   "source": [
    "def f(y):\n",
    "    return 1 / (y**2-2*y-8)\n",
    "\n",
    "def rectangle(f, a, b, step):\n",
    "    X = np.linspace(a, b, int((b - a) / step) + 1)\n",
    "    return step * np.sum(f(X)[:len(X) - 1])\n",
    "\n",
    "def trapezoid(f, a, b, step):\n",
    "    X = np.linspace(a, b, int((b - a) / step) + 1)\n",
    "    f = f(X)\n",
    "    return step / 2 * (f[0] + 2 * np.sum(f[1 : len(X) - 1]) + f[-1])\n",
    "\n",
    "def simpson(f, a, b, step):\n",
    "    X = np.linspace(a, b, 2 * int((b - a) / step) + 1)\n",
    "    N = len(X) - 1\n",
    "    f = f(X)\n",
    "    return step / 6 * (f[0] + 2 * np.sum(f[2 : N : 2])  + 4 * np.sum(f[1 : N : 2]) + f[N])\n",
    "\n",
    "print('Метод прямоугольников:', rectangle(f, 2, 3, 0.00001))\n",
    "print('Метод трапеций:', trapezoid(f, 2, 3, 0.001))\n",
    "print('Метод Симпсона:', simpson(f, 2, 3, 0.01))"
   ]
  },
  {
   "cell_type": "markdown",
   "metadata": {},
   "source": [
    "$\\int\\limits_2^3 {\\frac{{dy}}{{{y^2} - 2y - 8}}dy} = \\int\\limits_2^3 {\\frac{{1}}{{(y-4)}{(y+2)}}dy} = \\int\\limits_2^3 {(\\frac{{1}}{{6(y-4)}}-\\frac{{1}}{{6(y+2)}})dy} = (\\dfrac{\\ln\\left(\\left|y-4\\right|\\right)}{6}-\\dfrac{\\ln\\left(\\left|y+2\\right|\\right)}{6})\\Biggr|_{2}^{3} = -\\dfrac{\\ln\\left(5\\right)}{6}+\\dfrac{\\ln\\left(4\\right)}{6}-\\dfrac{\\ln\\left(2\\right)}{6} = \\dfrac{\\ln\\left(2\\right)-\\ln\\left(5\\right)}{6} \\approx$\n",
    "\n",
    "$\\approx − 0.1527151219790258$"
   ]
  },
  {
   "cell_type": "markdown",
   "metadata": {},
   "source": [
    "Вывод: метод Симпсона даёт наиболее точный результат при наименьшем количестве шагов."
   ]
  }
 ],
 "metadata": {
  "kernelspec": {
   "display_name": "Python 3 (ipykernel)",
   "language": "python",
   "name": "python3"
  },
  "language_info": {
   "codemirror_mode": {
    "name": "ipython",
    "version": 3
   },
   "file_extension": ".py",
   "mimetype": "text/x-python",
   "name": "python",
   "nbconvert_exporter": "python",
   "pygments_lexer": "ipython3",
   "version": "3.8.5"
  }
 },
 "nbformat": 4,
 "nbformat_minor": 2
}
