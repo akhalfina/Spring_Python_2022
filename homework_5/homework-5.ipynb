{
 "cells": [
  {
   "cell_type": "markdown",
   "id": "47acf90c",
   "metadata": {},
   "source": [
    "# Домашнее задание №5\n",
    "## Решение СЛАУ при помощи LU и LUP разложений\n",
    "---\n",
    "**Выполнила:** Халфина Айсылу Зуфаровна\n",
    "\n",
    "**Группа:** НПМбд-02-19\n",
    "\n",
    "---"
   ]
  },
  {
   "cell_type": "markdown",
   "id": "5b06fe3c",
   "metadata": {},
   "source": [
    "### Цели работы:\n",
    "- знакомство с библиотекой numpy;\n",
    "- реализация методов LU и LUP разложений для решения систем линейных алгебраических уравнений (СЛАУ);\n",
    "- сравнительный анализ эффективности методов для решения СЛАУ."
   ]
  },
  {
   "cell_type": "markdown",
   "id": "21fc448b",
   "metadata": {},
   "source": [
    "Перед началом работы импортируем необходимые библиотеки."
   ]
  },
  {
   "cell_type": "code",
   "execution_count": 7,
   "id": "a63415cc",
   "metadata": {},
   "outputs": [],
   "source": [
    "import numpy as np\n",
    "import scipy.linalg as sl"
   ]
  },
  {
   "cell_type": "markdown",
   "id": "fceec321",
   "metadata": {},
   "source": [
    "# LU-разложение"
   ]
  },
  {
   "cell_type": "markdown",
   "id": "d881db8e",
   "metadata": {},
   "source": [
    "$LU-разложение$ (LU-декомпозиция, LU-факторизация) — представление матрицы $A$ в виде произведения двух матриц, $A=LU$, где $L$ — нижняя треугольная матрица, а $U$ — верхняя треугольная матрица.\n",
    "\n",
    "$LU-разложение$ используется для решения систем линейных уравнений, обращения матриц и вычисления определителя. $LU-разложение$ существует только в том случае, когда матрица $A$ обратима, а все ведущие (угловые) главные миноры матрицы $A$ невырождены.\n",
    "\n",
    "Этот метод является одной из разновидностей метода Гаусса."
   ]
  },
  {
   "cell_type": "markdown",
   "id": "a4fb5ed9",
   "metadata": {},
   "source": [
    "Первым делом реализуем функцию, принимающую на вход оригинальную квадратную матрицу и возвращающую $L$ и $U$ матрицы."
   ]
  },
  {
   "cell_type": "code",
   "execution_count": 9,
   "id": "f57c5601",
   "metadata": {},
   "outputs": [],
   "source": [
    "def LU(a):\n",
    "    rows = a.shape[0]\n",
    "    u = a.copy()\n",
    "    l = np.eye(rows)\n",
    "    for i in range(rows):\n",
    "        f = u[i+1:, i] / u[i, i]\n",
    "        l[i+1:, i] = f\n",
    "        u[i+1:] -= f[:, np.newaxis] * u[i]\n",
    "    return l, u"
   ]
  },
  {
   "cell_type": "markdown",
   "id": "16d3bb54",
   "metadata": {},
   "source": [
    "Пусть дана СЛАУ вида $A x = b$. С помощью LU-разложения её можно свести к $L U x = b$.\n",
    "\n",
    "Эта система может быть решена в два шага:\n",
    "\n",
    "1. Решается система $L y = b$, которая решается прямой подстановкой, т.к. $L$ --- нижняя треугольная матрица.\n",
    "\n",
    "2. Решается система $U x = y$, которая решается обратной подстановкой, т.к. $U$ --- верхняя треугольная матрица.\n",
    "\n",
    "Реализуем функцию, находящую решение СЛАУ при помощи LU-разложения."
   ]
  },
  {
   "cell_type": "code",
   "execution_count": 10,
   "id": "cf7665f2",
   "metadata": {},
   "outputs": [],
   "source": [
    "def solve_LU(A,b):\n",
    "    if A.shape[0] != A.shape[1]:\n",
    "        return 'Матрица не квадратная'\n",
    "    if np.linalg.det(A) == 0:\n",
    "        return 'Матрица вырождена'\n",
    "    N = len(A)\n",
    "    for i in range(1, N):\n",
    "        if np.linalg.det(A[:i, :i]) == 0:\n",
    "            return 'Главный минор вырожден'\n",
    "    L, U = LU(A)\n",
    "    y = np.zeros(N)\n",
    "    x = np.zeros(N)\n",
    "    for i in range(N):\n",
    "        y[i] = b[i] - L[i].dot(y)\n",
    "    for i in range(N - 1, -1, -1):\n",
    "        x[i] = (y[i] - U[i].dot(x)) / U[i, i]\n",
    "    return x             "
   ]
  },
  {
   "cell_type": "markdown",
   "id": "a8881efb",
   "metadata": {},
   "source": [
    "# LUP-разложение"
   ]
  },
  {
   "cell_type": "markdown",
   "id": "6bb4479d",
   "metadata": {},
   "source": [
    "$LUP-разложение$ (LUP-декомпозиция) — представление данной матрицы $A$ в виде произведения $PA = LU$ где матрица $L$ является нижнетреугольной с единицами на главной диагонали, $U$ — верхнетреугольная общего вида, а $P$ — т. н. матрица перестановок, получаемая из единичной матрицы путём перестановки строк или столбцов. Такое разложение можно осуществить для любой невырожденной матрицы. $LUP-разложение$ используется для вычисления обратной матрицы по компактной схеме, вычисления решения системы линейных уравнений. По сравнению с алгоритмом $LU-разложения$ алгоритм $LUP-разложения$ может обрабатывать любые невырожденные матрицы и при этом обладает более высокой вычислительной устойчивостью."
   ]
  },
  {
   "cell_type": "markdown",
   "id": "1f3a4c16",
   "metadata": {},
   "source": [
    "Сперва реализуем функцию, которая будет менять местами строки матрицы."
   ]
  },
  {
   "cell_type": "code",
   "execution_count": 12,
   "id": "abd8fde4",
   "metadata": {},
   "outputs": [],
   "source": [
    "def switch(A,i,j):\n",
    "    temp = np.copy(A[i])\n",
    "    A[i] = A[j]\n",
    "    A[j] = temp\n",
    "    return A"
   ]
  },
  {
   "cell_type": "markdown",
   "id": "2a8c7a2f",
   "metadata": {},
   "source": [
    "Затем реализуем функцию, находящую LUP-разложение матрицы $А$."
   ]
  },
  {
   "cell_type": "code",
   "execution_count": 13,
   "id": "f545d08e",
   "metadata": {},
   "outputs": [],
   "source": [
    "def LUP(A):\n",
    "    N = len(A)\n",
    "    P = np.identity(N)\n",
    "    E = np.identity(N)\n",
    "    B = np.copy(A)\n",
    "    for i in range(N - 1):\n",
    "        max_ind = np.argmax(abs(B[:, i]))\n",
    "        if i != max_ind:\n",
    "            B = switch(B, i, max_ind)\n",
    "            E = switch(E, i, max_ind)\n",
    "            P = switch(P, i, max_ind)\n",
    "        mult = np.array(B[(i + 1):,i] / (- B[i, i]))\n",
    "        mult = np.array([mult,]).T\n",
    "        B_add = mult.dot([B[i],])\n",
    "        E_add = mult.dot([E[i],])\n",
    "        B[(i + 1):] += B_add\n",
    "        E[(i + 1):] += E_add\n",
    "    U = np.copy(B)\n",
    "    L = P.dot(np.linalg.inv(E))\n",
    "    return L, U, P"
   ]
  },
  {
   "cell_type": "markdown",
   "id": "1a348ec0",
   "metadata": {},
   "source": [
    "Пусть дана СЛАУ вида $A x = b$. С помощью LUP-разложения, домножив левую и правую части на $P$, её можно свести к $L U x = P b$.\n",
    "\n",
    "Эта система может быть решена в два шага:\n",
    "\n",
    "1. Решается система $L y = P b$, которая решается прямой подстановкой, т.к. $L$ --- нижняя треугольная матрица.\n",
    "\n",
    "2. Решается система $U x = y$, которая решается обратной подстановкой, т.к. $U$ --- верхняя треугольная матрица.\n",
    "\n",
    "Реализуем функцию, находящую решение СЛАУ при помощи LUP-разложения."
   ]
  },
  {
   "cell_type": "code",
   "execution_count": 14,
   "id": "f2dd5661",
   "metadata": {},
   "outputs": [],
   "source": [
    "def solve_LUP(A, b):\n",
    "    if A.shape[0] != A.shape[1]:\n",
    "        return 'Матрица не квадратная'\n",
    "    if np.linalg.det(A) == 0:\n",
    "        return 'Матрица вырождена'\n",
    "    N = len(A)\n",
    "    L, U, P = LUP(A)\n",
    "    b = P.dot(b)\n",
    "    y = np.zeros(N)\n",
    "    x = np.zeros(N)\n",
    "    for i in range(N):\n",
    "        y[i] = b[i] - L[i].dot(y)\n",
    "    for i in range(N - 1, -1, -1):\n",
    "        x[i] = (y[i] - U[i].dot(x)) / U[i, i]\n",
    "    return x   "
   ]
  },
  {
   "cell_type": "markdown",
   "id": "689be2db",
   "metadata": {},
   "source": [
    "# Проверка решений"
   ]
  },
  {
   "cell_type": "markdown",
   "id": "ce56a7ea",
   "metadata": {},
   "source": [
    "Протестируем решение СЛАУ при помощи функции LU разложения."
   ]
  },
  {
   "cell_type": "code",
   "execution_count": 19,
   "id": "803595bb",
   "metadata": {},
   "outputs": [
    {
     "name": "stdout",
     "output_type": "stream",
     "text": [
      "Ответ:\n",
      "[ 0.83333333 -0.16666667 -0.5       ]\n"
     ]
    }
   ],
   "source": [
    "Matrix = np.array([[1.,2,1],[2,1,1],[1,-1,2]])\n",
    "b = [0.,1,0]\n",
    "\n",
    "Answer = solve_LU(Matrix,b)\n",
    "print('Ответ:')\n",
    "print(Answer)"
   ]
  },
  {
   "cell_type": "markdown",
   "id": "d32e0e7a",
   "metadata": {},
   "source": [
    "Теперь протестируем решение при помощи функции LUP разложения"
   ]
  },
  {
   "cell_type": "code",
   "execution_count": 20,
   "id": "4731775c",
   "metadata": {},
   "outputs": [
    {
     "name": "stdout",
     "output_type": "stream",
     "text": [
      "Ответ:\n",
      "[ 0.83333333 -0.16666667 -0.5       ]\n"
     ]
    }
   ],
   "source": [
    "Matrix = np.array([[1.,2,1],[2,1,1],[1,-1,2]])\n",
    "b = [0.,1,0]\n",
    "\n",
    "Answer = solve_LUP(Matrix,b)\n",
    "print('Ответ:')\n",
    "print(Answer)"
   ]
  },
  {
   "cell_type": "markdown",
   "id": "a4bfbc2c",
   "metadata": {},
   "source": [
    "Результаты работы обеих функций совпали. Теперь проверим их при помощи библиотеки scipy."
   ]
  },
  {
   "cell_type": "code",
   "execution_count": 21,
   "id": "69ec0bf8",
   "metadata": {},
   "outputs": [
    {
     "name": "stdout",
     "output_type": "stream",
     "text": [
      "Ответ:\n",
      "[ 0.83333333 -0.16666667 -0.5       ]\n"
     ]
    }
   ],
   "source": [
    "Matrix = np.array([[1.,2,1],[2,1,1],[1,-1,2]])\n",
    "b = [0.,1,0]\n",
    "\n",
    "Answer = sl.solve(Matrix,b)\n",
    "print('Ответ:')\n",
    "print(Answer)"
   ]
  },
  {
   "cell_type": "markdown",
   "id": "9cb81eb3",
   "metadata": {},
   "source": [
    "# Вывод"
   ]
  },
  {
   "cell_type": "markdown",
   "id": "f542e6b4",
   "metadata": {},
   "source": [
    "Оба алгоритма отработали корректно и выдали верный результат. Однако LU-разложение для произвольной квадратной невырожденной матрицы возможно не всегда, необходимо, чтобы в процессе решения не было деления на ноль, в противном случае эффективнее использовать LUP-разложение, отличие которого в том, что перед каждым шагом нахождения коэффициентов, необходимых для последующего сложения строк, присутствует операция перестановки местами двух строк соответствующей матрицы (с выбором наибольшего по модулю ведущего элемента), обеспечивающая получение ненулевых ведущих элементов."
   ]
  }
 ],
 "metadata": {
  "kernelspec": {
   "display_name": "Python 3 (ipykernel)",
   "language": "python",
   "name": "python3"
  },
  "language_info": {
   "codemirror_mode": {
    "name": "ipython",
    "version": 3
   },
   "file_extension": ".py",
   "mimetype": "text/x-python",
   "name": "python",
   "nbconvert_exporter": "python",
   "pygments_lexer": "ipython3",
   "version": "3.8.5"
  }
 },
 "nbformat": 4,
 "nbformat_minor": 5
}
