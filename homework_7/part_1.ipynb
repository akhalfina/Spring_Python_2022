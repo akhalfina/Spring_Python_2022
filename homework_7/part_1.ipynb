{
 "cells": [
  {
   "cell_type": "markdown",
   "id": "1810f991",
   "metadata": {},
   "source": [
    "# Домашнее задание №7\n",
    "## Обработка строк, функция map\n",
    "---\n",
    "**Выполнила:** Халфина Айсылу Зуфаровна\n",
    "\n",
    "**Группа:** НПМбд-02-19\n",
    "\n",
    "---"
   ]
  },
  {
   "cell_type": "markdown",
   "id": "518da3b3",
   "metadata": {},
   "source": [
    "### Задача 1\n",
    "Четные индексы\n",
    "\n",
    "Решение в одну строку"
   ]
  },
  {
   "cell_type": "code",
   "execution_count": 4,
   "id": "67525f68",
   "metadata": {},
   "outputs": [
    {
     "name": "stdout",
     "output_type": "stream",
     "text": [
      "1 2 3 4 5\n",
      "1 3 5\n"
     ]
    }
   ],
   "source": [
    "print(' '.join(input().split()[::2]))"
   ]
  },
  {
   "cell_type": "markdown",
   "id": "ec186056",
   "metadata": {},
   "source": [
    "### Задача 2\n",
    "Наибольший элемент и его индекс\n",
    "\n",
    "Решение в две строки"
   ]
  },
  {
   "cell_type": "code",
   "execution_count": 7,
   "id": "0f0a2bcd",
   "metadata": {},
   "outputs": [
    {
     "name": "stdout",
     "output_type": "stream",
     "text": [
      "1 2 3 2 1\n",
      "3 2\n"
     ]
    }
   ],
   "source": [
    "A = list(map(int, input().split()))\n",
    "print(max(A), A.index(max(A)))"
   ]
  },
  {
   "cell_type": "markdown",
   "id": "20e6a3f9",
   "metadata": {},
   "source": [
    "### Задача 3\n",
    "Вывести в обратном порядке\n",
    "\n",
    "Решение в одну строку"
   ]
  },
  {
   "cell_type": "code",
   "execution_count": 9,
   "id": "fac5081d",
   "metadata": {},
   "outputs": [
    {
     "name": "stdout",
     "output_type": "stream",
     "text": [
      "1 2 3 4 5\n",
      "5 4 3 2 1\n"
     ]
    }
   ],
   "source": [
    "print(' '.join(input().split()[::-1]))"
   ]
  },
  {
   "cell_type": "markdown",
   "id": "a621ec80",
   "metadata": {},
   "source": [
    "### Задача 4\n",
    "Переставить соседние\n",
    "\n",
    "Решение в три строки"
   ]
  },
  {
   "cell_type": "code",
   "execution_count": 10,
   "id": "f4d4a07f",
   "metadata": {},
   "outputs": [
    {
     "name": "stdout",
     "output_type": "stream",
     "text": [
      "1 2 3 4 5\n",
      "2 1 4 3 5\n"
     ]
    }
   ],
   "source": [
    "A = input().split()\n",
    "A[:-1:2], A[1::2] = A[1::2], A[:-1:2]\n",
    "print(' '.join(A))"
   ]
  },
  {
   "cell_type": "markdown",
   "id": "1fd529a4",
   "metadata": {},
   "source": [
    "### Задача 5\n",
    "Циклический сдвиг вправо\n",
    "\n",
    "Решение в две строки"
   ]
  },
  {
   "cell_type": "code",
   "execution_count": 15,
   "id": "a63dbcbf",
   "metadata": {},
   "outputs": [
    {
     "name": "stdout",
     "output_type": "stream",
     "text": [
      "1 2 3 4 5\n",
      "5 1 2 3 4\n"
     ]
    }
   ],
   "source": [
    "A = input().split()\n",
    "print(' '.join(A[-1:] + A[:-1]))"
   ]
  },
  {
   "cell_type": "markdown",
   "id": "be98834c",
   "metadata": {},
   "source": [
    "### Задача 6\n",
    "Удалить элемент\n",
    "\n",
    "Решение в три строки"
   ]
  },
  {
   "cell_type": "code",
   "execution_count": 19,
   "id": "853f5cc5",
   "metadata": {},
   "outputs": [
    {
     "name": "stdout",
     "output_type": "stream",
     "text": [
      "7 6 5 4 3 2 1\n",
      "2\n",
      "7 6 4 3 2 1\n"
     ]
    }
   ],
   "source": [
    "A = input().split()\n",
    "to_delete = int(input())\n",
    "print(' '.join(A[:to_delete] + A[to_delete + 1:]))"
   ]
  },
  {
   "cell_type": "markdown",
   "id": "3c7216ec",
   "metadata": {},
   "source": [
    "### Задача 7\n",
    "Вставить элемент\n",
    "\n",
    "Решение в три строки. вторая строка: n, elem = map(int, input().split())"
   ]
  },
  {
   "cell_type": "code",
   "execution_count": 25,
   "id": "0914c315",
   "metadata": {},
   "outputs": [
    {
     "name": "stdout",
     "output_type": "stream",
     "text": [
      "7 6 5 4 3 2 1\n",
      "2 0\n",
      "7 6 0 5 4 3 2 1\n"
     ]
    }
   ],
   "source": [
    "A = input().split()\n",
    "n, elem = map(int, input().split())\n",
    "print(*A[:n], elem, *A[n:])"
   ]
  },
  {
   "cell_type": "markdown",
   "id": "55c134d1",
   "metadata": {},
   "source": [
    "### Задача 8\n",
    "Большой сдвиг\n",
    "\n",
    "Решение в две строки"
   ]
  },
  {
   "cell_type": "code",
   "execution_count": 32,
   "id": "df201734",
   "metadata": {},
   "outputs": [
    {
     "name": "stdout",
     "output_type": "stream",
     "text": [
      "5 3 7 4 6\n",
      "3\n",
      "7 4 6 5 3\n"
     ]
    }
   ],
   "source": [
    "A = list(map(int, input().split()))\n",
    "print(*np.roll(A, int(input())))"
   ]
  }
 ],
 "metadata": {
  "kernelspec": {
   "display_name": "Python 3 (ipykernel)",
   "language": "python",
   "name": "python3"
  },
  "language_info": {
   "codemirror_mode": {
    "name": "ipython",
    "version": 3
   },
   "file_extension": ".py",
   "mimetype": "text/x-python",
   "name": "python",
   "nbconvert_exporter": "python",
   "pygments_lexer": "ipython3",
   "version": "3.8.5"
  }
 },
 "nbformat": 4,
 "nbformat_minor": 5
}
